{
 "cells": [
  {
   "cell_type": "markdown",
   "metadata": {},
   "source": [
    "<div style=\"text-align: center;\">\n",
    "\n",
    "## Técnicas de Optimización y Control\n",
    "\n",
    "## Caso práctico\n",
    "## 3º Ingeniería Matemática\n",
    "\n",
    "</div>\n"
   ]
  },
  {
   "cell_type": "markdown",
   "metadata": {},
   "source": [
    "Los economistas del Banco Central Europeo han ajustado los datos de variación de\n",
    "la tasa de ahorro de las familias (%ΔTasa de ahorro) en función de la variación de\n",
    "PIB (%ΔPIB) y la variación del consumo de los hogares (%ΔCH) en función del\n",
    "tiempo t en trimestres. Todas las tasas de variación son inter-trimestrales. Si\n",
    "consideramos, para simplificar el problema, que x=%ΔPIB e y=%ΔCH, la ecuación a\n",
    "optimizar es:"
   ]
  },
  {
   "cell_type": "markdown",
   "metadata": {},
   "source": [
    "\n",
    "$$\n",
    "\\% \\Delta \\text{Tasa de ahorro} = J = \\int \\left[ (1 + t^2) \\cdot (\\Delta PIB_t) + (\\Delta CH_t) + \\left( \\frac{\\partial \\Delta PIB_t}{\\partial t} \\right)^2 + \\left( \\frac{\\partial \\Delta CH_t}{\\partial t} \\right)^3 \\right] \\, dt\n",
    "$$\n",
    "\n",
    "$$\n",
    "\\% \\Delta \\text{Tasa de ahorro} = J = \\int \\left[ (1 + t^2) \\cdot x(t) + y(t) + \\left( \\frac{\\partial x(t)}{\\partial t} \\right)^2 + \\left( \\frac{\\partial y(t)}{\\partial t} \\right)^3 \\right] \\, dt\n",
    "$$\n",
    "\n"
   ]
  },
  {
   "cell_type": "markdown",
   "metadata": {},
   "source": [
    "a) Mediante el cálculo de variaciones calcular las curvas óptimas de PIB y de CH\n",
    "en función de t (en función de las constantes de integración), que optimizan\n",
    "el problema."
   ]
  },
  {
   "cell_type": "code",
   "execution_count": 18,
   "metadata": {},
   "outputs": [
    {
     "name": "stdout",
     "output_type": "stream",
     "text": [
      "x(t): C1_x*t + C2_x + t**4/24 + t**2/4\n",
      "y(t): C2_y + 2*(2*C1_y + t/3)**(3/2)\n"
     ]
    }
   ],
   "source": [
    "import sympy as sp\n",
    "\n",
    "# Definición de variables simbólicas\n",
    "t = sp.Symbol('t')\n",
    "C1_x, C2_x = sp.symbols('C1_x C2_x')  # Constantes para x(t)\n",
    "C1_y, C2_y = sp.symbols('C1_y C2_y')  # Constantes para y(t)\n",
    "\n",
    "# Definir la ecuación para x(t)\n",
    "x_prime = sp.integrate((1 + t**2) / 2, t) + C1_x  # x'(t)\n",
    "x_t = sp.integrate(x_prime, t) + C2_x  # x(t)\n",
    "\n",
    "# Definir la ecuación para y(t)\n",
    "y_prime = sp.sqrt(t / 3 + 2 * C1_y)\n",
    "y_t = sp.integrate(y_prime, t) + C2_y  # y(t)\n",
    "\n",
    "# Mostrar las funciones\n",
    "print(\"x(t):\", x_t)\n",
    "print(\"y(t):\", y_t)\n"
   ]
  },
  {
   "cell_type": "markdown",
   "metadata": {},
   "source": [
    "Las funciones son:\n",
    "\n",
    "###  PIB:\n",
    "$$\n",
    "x(t) = C1_x \\cdot t + C2_x + \\frac{t^4}{24} + \\frac{t^2}{4}\n",
    "$$\n",
    "\n",
    "###  CH:\n",
    "$$\n",
    "y(t) = C2_y + 2 \\left(2 C1_y + \\frac{t}{3}\\right)^{\\frac{3}{2}}\n",
    "$$\n"
   ]
  },
  {
   "cell_type": "markdown",
   "metadata": {},
   "source": [
    "Las funciones x(t)  y  y(t)  describen la evolución del PIB y del consumo de los hogares en el tiempo, considerando las constantes de integración  C1_x , C2_x ,  C1_y  y C2_y , que se determinan a partir de las condiciones iniciales del problema. Este enfoque permite maximizar la tasa de ahorro de las familias al optimizar la relación entre el PIB y el consumo inter-trimestralmente.\n"
   ]
  },
  {
   "cell_type": "markdown",
   "metadata": {},
   "source": [
    "b) Se ha establecido para la simulación que para t=0.5 la tasa de variación del\n",
    "PIB y del consumo de los hogares es de 0.5%. De igual modo para t=1 las tasas\n",
    "de variación de PIB y de consumo de los hogares es del 1%. Calcular las\n",
    "curvas óptimas bajo estas condiciones de contorno. Dibujar las curvas. Nota:\n",
    "se aconseja usar métodos numéricos, especialmente el método de Newton\n",
    "Raphson."
   ]
  },
  {
   "cell_type": "code",
   "execution_count": 19,
   "metadata": {},
   "outputs": [
    {
     "name": "stdout",
     "output_type": "stream",
     "text": [
      "Constantes para x(t): C1_x = 0.546875000000000 , C2_x = 0.161458333333333\n",
      "Constantes para y(t): C1_y = 0.375289519592281 , C2_y = -1.25694645694064\n",
      "x(t) final: t**4/24 + t**2/4 + 0.546875*t + 0.161458333333333\n",
      "y(t) final: 1.30054278393668*(0.444101574826111*t + 1)**(3/2) - 1.25694645694064\n"
     ]
    }
   ],
   "source": [
    "# Definir condiciones iniciales para y(t): y(0.5) = 0.5 y y(1) = 1\n",
    "eq1_y = sp.Eq(y_t.subs(t, 0.5), 0.5)\n",
    "eq2_y = sp.Eq(y_t.subs(t, 1), 1)\n",
    "\n",
    "# Resolver para C1_y y C2_y\n",
    "solution_y = sp.solve([eq1_y, eq2_y], (C1_y, C2_y))\n",
    "\n",
    "# Asegurarse de que la solución sea válida\n",
    "if len(solution_y) > 0:\n",
    "    C1_y_value = solution_y[0][0]  # Primer valor de C1_y\n",
    "    C2_y_value = solution_y[0][1]  # Primer valor de C2_y\n",
    "else:\n",
    "    raise ValueError(\"No se encontró solución para y(t).\")\n",
    "\n",
    "# Sustituir las constantes en y(t)\n",
    "y_t_final = y_t.subs({C1_y: C1_y_value, C2_y: C2_y_value})\n",
    "\n",
    "# Definir condiciones iniciales para x(t): x(0.5) = 0.5 y x(1) = 1\n",
    "eq1_x = sp.Eq(x_t.subs(t, 0.5), 0.5)  # x(0.5) = 0.5\n",
    "eq2_x = sp.Eq(x_t.subs(t, 1), 1)      # x(1) = 1\n",
    "\n",
    "# Resolver para C1_x y C2_x\n",
    "solution_x = sp.solve([eq1_x, eq2_x], (C1_x, C2_x))\n",
    "\n",
    "# Asegurarse de que la solución sea válida\n",
    "if solution_x:\n",
    "    C1_x_value = solution_x[C1_x]  # Acceder directamente al valor de C1_x\n",
    "    C2_x_value = solution_x[C2_x]  # Acceder directamente al valor de C2_x\n",
    "else:\n",
    "    raise ValueError(\"No se encontró solución para x(t).\")\n",
    "\n",
    "# Sustituir las constantes en x(t)\n",
    "x_t_final = x_t.subs({C1_x: C1_x_value, C2_x: C2_x_value})\n",
    "\n",
    "# Mostrar las constantes y funciones finales\n",
    "print(\"Constantes para x(t): C1_x =\", C1_x_value, \", C2_x =\", C2_x_value)\n",
    "print(\"Constantes para y(t): C1_y =\", C1_y_value, \", C2_y =\", C2_y_value)\n",
    "print(\"x(t) final:\", x_t_final)\n",
    "print(\"y(t) final:\", y_t_final)\n"
   ]
  },
  {
   "cell_type": "markdown",
   "metadata": {},
   "source": [
    "Estas funciones describen cómo evolucionan el PIB y el consumo de los hogares a lo largo del tiempo, de acuerdo con las condiciones de contorno definidas. Este análisis permite optimizar el comportamiento económico intertrimestral de las familias, brindando así una comprensión más clara de la relación entre el PIB y el consumo."
   ]
  },
  {
   "cell_type": "markdown",
   "metadata": {},
   "source": [
    "### Las constantes son:\n",
    "\n",
    "Constantes para  x(t) :\n",
    "$$\n",
    "C1_x = 0.546875000000000, \\quad C2_x = 0.161458333333333\n",
    "$$\n",
    "\n",
    "Constantes para y(t) :\n",
    "$$\n",
    "C1_y = 0.375289519592281, \\quad C2_y = -1.25694645694064\n",
    "$$\n",
    "### Funciones finales:\n",
    "\n",
    "Función final para x(t) :\n",
    "$$\n",
    "x(t) = \\frac{t^4}{24} + \\frac{t^2}{4} + 0.546875 \\cdot t + 0.161458333333333\n",
    "$$\n",
    "\n",
    "Función final para y(t) :\n",
    "$$\n",
    "y(t) = 1.30054278393668 \\cdot \\left(0.444101574826111 \\cdot t + 1\\right)^{\\frac{3}{2}} - 1.25694645694064\n",
    "$$\n"
   ]
  },
  {
   "cell_type": "markdown",
   "metadata": {},
   "source": [
    "c) Los economistas necesitan saber si existe un punto $ t^* $ que iguale las curvas de optimización. Demostrar si existe este punto desde un punto de vista gráfico dentro de los intervalos de \\( t \\) de 0 a 2. ¿Qué significado económico podemos concluir tras este análisis?\n"
   ]
  },
  {
   "cell_type": "code",
   "execution_count": 20,
   "metadata": {},
   "outputs": [
    {
     "data": {
      "image/png": "[encoded data removed]",
      "text/plain": [
       "<Figure size 1000x500 with 1 Axes>"
      ]
     },
     "metadata": {},
     "output_type": "display_data"
    }
   ],
   "source": [
    "import numpy as np\n",
    "import matplotlib.pyplot as plt\n",
    "\n",
    "# Crear un rango de valores t para graficar en el intervalo [0, 2]\n",
    "t_values = np.linspace(0, 2, 200)  # Valores de t de 0 a 2\n",
    "x_values = [x_t_final.evalf(subs={t: val}) for val in t_values]\n",
    "y_values = [y_t_final.evalf(subs={t: val}) for val in t_values]\n",
    "\n",
    "# Graficar ambas funciones en el mismo gráfico\n",
    "plt.figure(figsize=(10, 5))\n",
    "\n",
    "# Graficar x(t)\n",
    "plt.plot(t_values, x_values, label='PIB', color='blue')\n",
    "# Graficar y(t)\n",
    "plt.plot(t_values, y_values, label='CH', color='green')\n",
    "\n",
    "# Marcar las condiciones iniciales\n",
    "plt.scatter([0.5, 1], [0.5, 1], color='red', zorder=5, label='Condiciones Iniciales')\n",
    "\n",
    "plt.title(\"Curvas de x(t) y y(t) en el intervalo [0, 2]\")\n",
    "plt.xlabel(\"t\")\n",
    "plt.ylabel(\"Valor de las funciones\")\n",
    "plt.xlim(0, 2)  # Establecer límites en el eje x\n",
    "plt.grid()\n",
    "plt.axhline(0, color='black', linewidth=0.5, ls='--')\n",
    "plt.axvline(0, color='black', linewidth=0.5, ls='--')\n",
    "plt.legend()\n",
    "plt.tight_layout()\n",
    "plt.show()\n"
   ]
  },
  {
   "cell_type": "markdown",
   "metadata": {},
   "source": [
    "Correlación entre Consumo y PIB en el Intervalo (0.5, 1)\n",
    "\n",
    "En el rango entre 0.5 y 1, se observa una correlación casi perfecta entre el consumo y el PIB. Esto significa que durante este intervalo, ambos crecen al mismo ritmo. En particular, en los puntos (0.5, 0.5) y (1, 1) se alcanza un punto de equilibrio, donde el crecimiento del PIB es igual al del consumo. En términos matemáticos, la derivada del PIB y del consumo es prácticamente la misma, lo que indica una relación proporcional y equilibrada entre ambas variables. Este equilibrio implica que, durante este intervalo, las condiciones económicas están sincronizadas, con el consumo reflejando directamente el crecimiento económico.\n",
    "\n",
    "Desacople después del Punto 1\n",
    "\n",
    "A partir del punto 1 en la gráfica, se empieza a observar una diferencia importante: el PIB comienza a crecer más rápidamente que el consumo. La pendiente del PIB es más pronunciada, lo que indica un crecimiento más acelerado. Esto puede reflejar una serie de fenómenos económicos, entre ellos, el aumento de la productividad o inversiones que no se traducen inmediatamente en un aumento proporcional del consumo.\n",
    "\n",
    "Uno de los factores que debe considerarse en este contexto es la inflación. A medida que la economía crece y el PIB aumenta, es probable que también suban los precios. Este incremento de precios implica que, aunque el consumo nominal (la cantidad de bienes y servicios adquiridos) se mantenga, el costo real de los mismos bienes es mayor debido a la inflación. Por lo tanto, la gráfica muestra una pendiente creciente, incluso si los hogares mantienen el mismo nivel de vida. Es decir, el gasto en términos reales puede aumentar solo por el incremento en los precios, lo que lleva a un mayor esfuerzo económico por parte de los hogares para mantener su calidad de vida.\n",
    "\n",
    "Aplicación a la Microeconomía: Consumo y Ahorro\n",
    "\n",
    "Desde una perspectiva microeconómica, si asumimos que el consumo es equivalente a los ingresos laborales, podemos interpretar la gráfica como una representación del crecimiento salarial y cómo este afecta al consumo y al ahorro. Al inicio de la gráfica, en los puntos bajos, podríamos imaginar que una persona está ganando un salario modesto (digamos 500 euros). A medida que el salario aumenta, el consumo también sube, permitiendo mejorar la calidad de vida y satisfacer las necesidades básicas.\n",
    "\n",
    "Sin embargo, llega un punto en el que, aunque los ingresos siguen aumentando, el nivel de consumo no crece a la misma velocidad. Esto se debe a que, una vez cubiertas todas las necesidades, el gasto adicional se reduce. La diferencia entre el aumento de ingresos y el consumo se refleja como ahorro. Este ahorro es fundamental, ya que permite acumular un colchón financiero una vez alcanzada una estabilidad económica.\n",
    "\n",
    "El Consumo nunca es Negativo\n",
    "\n",
    "Es importante destacar que el consumo nunca puede ser negativo. Incluso en situaciones en las que el PIB es negativo (es decir, una contracción económica), los hogares seguirán consumiendo lo necesario para cubrir sus necesidades básicas. En este contexto, el ahorro acumulado, que se representa en la gráfica como la diferencia entre el crecimiento del PIB y el consumo, actúa como una red de seguridad que previene una quiebra financiera. Este ahorro es lo que permite que los hogares mantengan su nivel de consumo, incluso cuando la economía atraviesa tiempos difíciles."
   ]
  },
  {
   "cell_type": "code",
   "execution_count": 21,
   "metadata": {},
   "outputs": [
    {
     "name": "stdout",
     "output_type": "stream",
     "text": [
      "El valor de t* es: 0.9999999999999959\n"
     ]
    }
   ],
   "source": [
    "import numpy as np\n",
    "\n",
    "# Definimos las funciones x(t) y y(t) y sus derivadas\n",
    "\n",
    "def x(t):\n",
    "    return (t**4)/24 + (t**2)/4 + 0.546875 * t + 0.161458333333333\n",
    "\n",
    "def y(t):\n",
    "    return 1.30054278393668 * (0.444101574826111 * t + 1)**(3/2) - 1.25694645694064\n",
    "\n",
    "def dx_dt(t):\n",
    "    return (t**3)/6 + t/2 + 0.546875\n",
    "\n",
    "def dy_dt(t):\n",
    "    return 0.38499312913494 * (0.444101574826111 * t + 1)**(1/2)\n",
    "\n",
    "# Definimos la función f(t) y su derivada f'(t)\n",
    "def f(t):\n",
    "    return x(t) - y(t)\n",
    "\n",
    "def df_dt(t):\n",
    "    return dx_dt(t) - dy_dt(t)\n",
    "\n",
    "# Método de Newton-Raphson\n",
    "def newton_raphson(t0, tol=1e-6, max_iter=100):\n",
    "    t = t0\n",
    "    for _ in range(max_iter):\n",
    "        t_next = t - f(t) / df_dt(t)\n",
    "        if abs(t_next - t) < tol:\n",
    "            return t_next\n",
    "        t = t_next\n",
    "    raise ValueError(\"No se encontró la raíz dentro del número máximo de iteraciones\")\n",
    "\n",
    "# Punto inicial para Newton-Raphson\n",
    "t0 = 1.0\n",
    "t_star = newton_raphson(t0)\n",
    "\n",
    "print(f\"El valor de t* es: {t_star}\")\n"
   ]
  },
  {
   "cell_type": "markdown",
   "metadata": {},
   "source": [
    "El valor obtenido de 𝑡∗≈1 indica que las funciones que representan las tasas de variación del PIB 𝑥(𝑡) y del consumo de los hogares y(t) se igualan alrededor del primer trimestre. Esto sugiere un punto de equilibrio en la evolución de ambas variables, lo que tiene implicaciones relevantes para el análisis económico.\n",
    "\n",
    "Desde el punto de vista económico, este equilibrio refleja una sincronización entre el crecimiento del PIB y el consumo en el trimestre 1, lo que podría interpretarse como un momento de estabilidad económica. En este punto, la producción total de bienes y servicios (PIB) y el gasto de los hogares (consumo) crecen a la misma tasa, lo que sugiere un balance en las dinámicas de crecimiento económico."
   ]
  }
 ],
 "metadata": {
  "kernelspec": {
   "display_name": "Python 3",
   "language": "python",
   "name": "python3"
  },
  "language_info": {
   "codemirror_mode": {
    "name": "ipython",
    "version": 3
   },
   "file_extension": ".py",
   "mimetype": "text/x-python",
   "name": "python",
   "nbconvert_exporter": "python",
   "pygments_lexer": "ipython3",
   "version": "3.12.6"
  }
 },
 "nbformat": 4,
 "nbformat_minor": 2
}
